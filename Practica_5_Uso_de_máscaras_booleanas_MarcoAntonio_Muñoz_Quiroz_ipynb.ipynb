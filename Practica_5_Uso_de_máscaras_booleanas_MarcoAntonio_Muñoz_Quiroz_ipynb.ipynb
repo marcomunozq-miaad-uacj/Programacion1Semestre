{
  "nbformat": 4,
  "nbformat_minor": 0,
  "metadata": {
    "colab": {
      "provenance": [],
      "authorship_tag": "ABX9TyMBxLe+DrfA2aoxDfbmSLqs",
      "include_colab_link": true
    },
    "kernelspec": {
      "name": "python3",
      "display_name": "Python 3"
    },
    "language_info": {
      "name": "python"
    }
  },
  "cells": [
    {
      "cell_type": "markdown",
      "metadata": {
        "id": "view-in-github",
        "colab_type": "text"
      },
      "source": [
        "<a href=\"https://colab.research.google.com/github/marcomunozq-miaad-uacj/Programacion1Semestre/blob/Programacion1Sem/Practica_5_Uso_de_m%C3%A1scaras_booleanas_MarcoAntonio_Mu%C3%B1oz_Quiroz_ipynb.ipynb\" target=\"_parent\"><img src=\"https://colab.research.google.com/assets/colab-badge.svg\" alt=\"Open In Colab\"/></a>"
      ]
    },
    {
      "cell_type": "markdown",
      "source": [
        "# Practica #5. Uso de máscaras booleanas\n",
        "Alumno: MarcoAntonio Muñoz Quiroz\n",
        "\n",
        "https://github.com/marcomunozq-miaad-uacj/Programacion1Semestre/blob/3c442ffa98a4598be183aa2a15ab78f5de941806/Practica_5_Uso_de_m%C3%A1scaras_booleanas_MarcoAntonio_Mu%C3%B1oz_Quiroz_ipynb.ipynb"
      ],
      "metadata": {
        "id": "umb48UtZKMlt"
      }
    },
    {
      "cell_type": "code",
      "source": [
        "import numpy as np\n",
        "\n",
        "# Crear un arreglo unidimensional con 15 números aleatorios entre 1 y 50\n",
        "arr = np.random.randint(1, 51, size=15)\n",
        "print(arr)"
      ],
      "metadata": {
        "colab": {
          "base_uri": "https://localhost:8080/"
        },
        "id": "3l2xruEzPE7P",
        "outputId": "80cb01f5-9c53-4b7a-e0d9-f799666e0416"
      },
      "execution_count": 29,
      "outputs": [
        {
          "output_type": "stream",
          "name": "stdout",
          "text": [
            "[22  1 44  8  8 21 24 17  4  8 47 50 16 41 48]\n"
          ]
        }
      ]
    },
    {
      "cell_type": "code",
      "source": [
        "\n",
        "# Crear una máscara booleana para seleccionar elementos mayores que 25\n",
        "mask = arreglo > 25\n",
        "elementos_mayores_25 = arr[mask]\n",
        "print(elementos_mayores_25)"
      ],
      "metadata": {
        "colab": {
          "base_uri": "https://localhost:8080/"
        },
        "id": "Pa8ASjFuPE3o",
        "outputId": "2086ab9e-5936-448a-c59d-1d426a386348"
      },
      "execution_count": 33,
      "outputs": [
        {
          "output_type": "stream",
          "name": "stdout",
          "text": [
            "[44  8 47 50 16]\n"
          ]
        }
      ]
    },
    {
      "cell_type": "code",
      "source": [
        "# Contar cuántos elementos son mayores que 25\n",
        "cantidad_mayores_25 = len(elementos_mayores_25)\n",
        "print(cantidad_mayores_25)"
      ],
      "metadata": {
        "colab": {
          "base_uri": "https://localhost:8080/"
        },
        "id": "qtCcWgNyPE08",
        "outputId": "30344676-bad7-4076-debe-a2ac96d6aec8"
      },
      "execution_count": 34,
      "outputs": [
        {
          "output_type": "stream",
          "name": "stdout",
          "text": [
            "5\n"
          ]
        }
      ]
    },
    {
      "cell_type": "code",
      "source": [
        "# Resumen\n",
        "print(\"Arreglo original:\", arr)\n",
        "print(\"Elementos mayores que 25:\", elementos_mayores_25)\n",
        "print(\"Cantidad de elementos mayores que 25:\", cantidad_mayores_25)"
      ],
      "metadata": {
        "colab": {
          "base_uri": "https://localhost:8080/"
        },
        "id": "ya1NHI61PEn_",
        "outputId": "84384e84-8259-482b-a75b-bf100fc9266a"
      },
      "execution_count": 32,
      "outputs": [
        {
          "output_type": "stream",
          "name": "stdout",
          "text": [
            "Arreglo original: [22  1 44  8  8 21 24 17  4  8 47 50 16 41 48]\n",
            "Elementos mayores que 25: [44  8 47 50 16]\n",
            "Cantidad de elementos mayores que 25: 5\n"
          ]
        }
      ]
    },
    {
      "cell_type": "code",
      "source": [],
      "metadata": {
        "id": "ddkZj1mmPElG"
      },
      "execution_count": 32,
      "outputs": []
    },
    {
      "cell_type": "code",
      "source": [],
      "metadata": {
        "id": "daEXFCE8PEhO"
      },
      "execution_count": 32,
      "outputs": []
    },
    {
      "cell_type": "code",
      "source": [],
      "metadata": {
        "id": "-i-VpnxCPEdT"
      },
      "execution_count": 32,
      "outputs": []
    },
    {
      "cell_type": "code",
      "source": [],
      "metadata": {
        "id": "RQLcwt-DPEZJ"
      },
      "execution_count": 32,
      "outputs": []
    },
    {
      "cell_type": "code",
      "source": [],
      "metadata": {
        "id": "pOaT-4a7PEVi"
      },
      "execution_count": 32,
      "outputs": []
    },
    {
      "cell_type": "code",
      "source": [],
      "metadata": {
        "id": "w-SgJ51fPER2"
      },
      "execution_count": 32,
      "outputs": []
    }
  ]
}