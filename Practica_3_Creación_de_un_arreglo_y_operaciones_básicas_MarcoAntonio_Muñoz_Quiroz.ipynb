{
  "nbformat": 4,
  "nbformat_minor": 0,
  "metadata": {
    "colab": {
      "provenance": [],
      "authorship_tag": "ABX9TyOeMySKLU7LA47g8iseB6io",
      "include_colab_link": true
    },
    "kernelspec": {
      "name": "python3",
      "display_name": "Python 3"
    },
    "language_info": {
      "name": "python"
    }
  },
  "cells": [
    {
      "cell_type": "markdown",
      "metadata": {
        "id": "view-in-github",
        "colab_type": "text"
      },
      "source": [
        "<a href=\"https://colab.research.google.com/github/marcomunozq-miaad-uacj/Programacion1Semestre/blob/Programacion1Sem/Practica_3_Creaci%C3%B3n_de_un_arreglo_y_operaciones_b%C3%A1sicas_MarcoAntonio_Mu%C3%B1oz_Quiroz.ipynb\" target=\"_parent\"><img src=\"https://colab.research.google.com/assets/colab-badge.svg\" alt=\"Open In Colab\"/></a>"
      ]
    },
    {
      "cell_type": "markdown",
      "source": [
        "# Practica #3 - Creación de un arreglo y operaciones básicas\n",
        "Alumno: MarcoAntonio Muñoz Quiroz"
      ],
      "metadata": {
        "id": "jvUv-CAdFqVQ"
      }
    },
    {
      "cell_type": "code",
      "source": [
        "import numpy as np\n",
        "arr = np.random.randint(1, 101, 20)\n",
        "print(arr)"
      ],
      "metadata": {
        "colab": {
          "base_uri": "https://localhost:8080/"
        },
        "id": "FPKROJHnF5Vl",
        "outputId": "09ec634d-3c82-4acf-8ed5-4e9b6b7d27a5"
      },
      "execution_count": 8,
      "outputs": [
        {
          "output_type": "stream",
          "name": "stdout",
          "text": [
            "[67 29 18  8 45 68 55 53 87  1 92 96 48 77 53 90 79 50 21 53]\n"
          ]
        }
      ]
    },
    {
      "cell_type": "code",
      "source": [
        "# Calcular el valor maximo\n",
        "valor_maximo = np.max(arr)\n",
        "\n",
        "# Calcular el valor minimo\n",
        "valor_minimo = np.min(arr)\n",
        "\n",
        "# Calcular la media\n",
        "media = np.mean(arr)\n",
        "\n",
        "# Sumar 10 a cada elemento del arreglo\n",
        "arreglo_mas_diez = arr + 10\n",
        "\n",
        "# Imprimir los resultados\n",
        "print(\"Arreglo original:\", arr, \"\\n\")\n",
        "print(\"Valor máximo:\", valor_maximo, \"\\n\")\n",
        "print(\"Valor mínimo:\", valor_minimo, \"\\n\")\n",
        "print(\"Media:\", media, \"\\n\")\n",
        "print(\"Arreglo con 10 sumado a cada elemento:\", arreglo_mas_diez, \"\\n\")"
      ],
      "metadata": {
        "colab": {
          "base_uri": "https://localhost:8080/"
        },
        "id": "de8UhsYiGxNf",
        "outputId": "8ad55abb-9f4e-4ab8-87b9-3400486cac31"
      },
      "execution_count": 15,
      "outputs": [
        {
          "output_type": "stream",
          "name": "stdout",
          "text": [
            "Arreglo original: [67 29 18  8 45 68 55 53 87  1 92 96 48 77 53 90 79 50 21 53] \n",
            "\n",
            "Valor máximo: 96 \n",
            "\n",
            "Valor mínimo: 1 \n",
            "\n",
            "Media: 54.5 \n",
            "\n",
            "Arreglo con 10 sumado a cada elemento: [ 77  39  28  18  55  78  65  63  97  11 102 106  58  87  63 100  89  60\n",
            "  31  63] \n",
            "\n"
          ]
        }
      ]
    }
  ]
}