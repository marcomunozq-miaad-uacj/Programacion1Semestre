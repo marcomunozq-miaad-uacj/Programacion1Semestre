{
  "nbformat": 4,
  "nbformat_minor": 0,
  "metadata": {
    "colab": {
      "provenance": [],
      "authorship_tag": "ABX9TyNrwzD6UHibqw4QjyROqxHh",
      "include_colab_link": true
    },
    "kernelspec": {
      "name": "python3",
      "display_name": "Python 3"
    },
    "language_info": {
      "name": "python"
    }
  },
  "cells": [
    {
      "cell_type": "markdown",
      "metadata": {
        "id": "view-in-github",
        "colab_type": "text"
      },
      "source": [
        "<a href=\"https://colab.research.google.com/github/marcomunozq-miaad-uacj/Programacion1Semestre/blob/Programacion1Sem/Practica_4_Manipulaci%C3%B3n_de_matrices_MarcoAntonio_Mu%C3%B1oz_Quiroz_ipynb.ipynb\" target=\"_parent\"><img src=\"https://colab.research.google.com/assets/colab-badge.svg\" alt=\"Open In Colab\"/></a>"
      ]
    },
    {
      "cell_type": "markdown",
      "source": [
        "# Practica #4 - Manipulación de matrices\n",
        "Alumno: MarcoAntonio Muñoz Quiroz\n",
        "\n",
        "https://github.com/marcomunozq-miaad-uacj/Programacion1Semestre/blob/1b6574a1e196d9da3e3b4fa802b73d4f342e0067/Practica_4_Manipulaci%C3%B3n_de_matrices_MarcoAntonio_Mu%C3%B1oz_Quiroz_ipynb.ipynb"
      ],
      "metadata": {
        "id": "umb48UtZKMlt"
      }
    },
    {
      "cell_type": "code",
      "source": [
        "import numpy as np"
      ],
      "metadata": {
        "id": "TAg50drVLtL-"
      },
      "execution_count": 1,
      "outputs": []
    },
    {
      "cell_type": "code",
      "source": [
        "MatA=np.random.randint(1,10,size=(3,3))\n",
        "MatB=np.random.randint(1,10,size=(3,3))"
      ],
      "metadata": {
        "id": "gi7GvR1NLs4j"
      },
      "execution_count": 4,
      "outputs": []
    },
    {
      "cell_type": "code",
      "source": [
        "print(MatA, \"\\n\\n\" ,MatB)"
      ],
      "metadata": {
        "colab": {
          "base_uri": "https://localhost:8080/"
        },
        "id": "AGzwRRzNLsx-",
        "outputId": "93106f1f-e82a-48d3-d3e5-66730499f2c2"
      },
      "execution_count": 7,
      "outputs": [
        {
          "output_type": "stream",
          "name": "stdout",
          "text": [
            "[[1 2 2]\n",
            " [4 8 7]\n",
            " [9 4 8]] \n",
            "\n",
            " [[9 6 8]\n",
            " [8 6 4]\n",
            " [9 4 7]]\n"
          ]
        }
      ]
    },
    {
      "cell_type": "code",
      "source": [
        "print(\"Suma de matrices: \\n\", MatA + MatB)"
      ],
      "metadata": {
        "colab": {
          "base_uri": "https://localhost:8080/"
        },
        "id": "BquK8zHkMlnk",
        "outputId": "db10522a-d6cb-4301-87ed-6b2fb17de609"
      },
      "execution_count": 10,
      "outputs": [
        {
          "output_type": "stream",
          "name": "stdout",
          "text": [
            "Suma de matrices: \n",
            " [[10  8 10]\n",
            " [12 14 11]\n",
            " [18  8 15]]\n"
          ]
        }
      ]
    },
    {
      "cell_type": "code",
      "source": [
        "print(\"Resta la segunda matriz de la primera: \\n\", MatB - MatA)"
      ],
      "metadata": {
        "colab": {
          "base_uri": "https://localhost:8080/"
        },
        "id": "QnYcBcJoMlht",
        "outputId": "9327d785-a034-47d0-f03e-1e26aefb47bb"
      },
      "execution_count": 11,
      "outputs": [
        {
          "output_type": "stream",
          "name": "stdout",
          "text": [
            "Resta la segunda matriz de la primera: \n",
            " [[ 8  4  6]\n",
            " [ 4 -2 -3]\n",
            " [ 0  0 -1]]\n"
          ]
        }
      ]
    },
    {
      "cell_type": "code",
      "source": [
        "print(\"Multiplica la primera matriz por dos: \\n\", 2*MatA)"
      ],
      "metadata": {
        "colab": {
          "base_uri": "https://localhost:8080/"
        },
        "id": "6O2Dj7TWMleF",
        "outputId": "3a2a1d6f-74cc-4a58-d143-5e3546c9b7b6"
      },
      "execution_count": 12,
      "outputs": [
        {
          "output_type": "stream",
          "name": "stdout",
          "text": [
            "Multiplica la primera matriz por dos: \n",
            " [[ 2  4  4]\n",
            " [ 8 16 14]\n",
            " [18  8 16]]\n"
          ]
        }
      ]
    },
    {
      "cell_type": "code",
      "source": [
        "print(\"Multiplica cion matricial: \\n\", np.dot(MatA,MatB) )"
      ],
      "metadata": {
        "colab": {
          "base_uri": "https://localhost:8080/"
        },
        "id": "rcr1BNH9MlY3",
        "outputId": "ed82fd35-22b8-4171-a55f-bbd616efce2e"
      },
      "execution_count": 13,
      "outputs": [
        {
          "output_type": "stream",
          "name": "stdout",
          "text": [
            "Multiplica cion matricial: \n",
            " [[ 43  26  30]\n",
            " [163 100 113]\n",
            " [185 110 144]]\n"
          ]
        }
      ]
    }
  ]
}